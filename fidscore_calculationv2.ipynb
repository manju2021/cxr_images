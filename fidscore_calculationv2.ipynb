{
  "nbformat": 4,
  "nbformat_minor": 0,
  "metadata": {
    "colab": {
      "name": "fidscore_calculationv2.ipynb",
      "provenance": [],
      "collapsed_sections": [],
      "authorship_tag": "ABX9TyOG2IPonj2IcMh+UtcVCNc/",
      "include_colab_link": true
    },
    "kernelspec": {
      "name": "python3",
      "display_name": "Python 3"
    },
    "language_info": {
      "name": "python"
    }
  },
  "cells": [
    {
      "cell_type": "markdown",
      "metadata": {
        "id": "view-in-github",
        "colab_type": "text"
      },
      "source": [
        "<a href=\"https://colab.research.google.com/github/manju2021/cxr_images/blob/master/fidscore_calculationv2.ipynb\" target=\"_parent\"><img src=\"https://colab.research.google.com/assets/colab-badge.svg\" alt=\"Open In Colab\"/></a>"
      ]
    },
    {
      "cell_type": "code",
      "execution_count": null,
      "metadata": {
        "colab": {
          "base_uri": "https://localhost:8080/"
        },
        "id": "3AU8duqVNTP7",
        "outputId": "81e48655-c018-4256-be8a-fc05a2ef5787"
      },
      "outputs": [
        {
          "output_type": "stream",
          "name": "stdout",
          "text": [
            "Tensorflow version: 2.8.0\n"
          ]
        }
      ],
      "source": [
        "# example of calculating the frechet inception distance in Keras for cifar10\n",
        "import numpy\n",
        "from numpy import cov\n",
        "from numpy import trace\n",
        "from numpy import iscomplexobj\n",
        "from numpy import asarray\n",
        "from numpy.random import shuffle\n",
        "from scipy.linalg import sqrtm\n",
        "from keras.applications.inception_v3 import InceptionV3\n",
        "from keras.applications.inception_v3 import preprocess_input\n",
        "from keras.datasets.mnist import load_data\n",
        "from skimage.transform import resize\n",
        "from keras.datasets import cifar10\n",
        "\n",
        "%matplotlib inline\n",
        "import tensorflow as tf\n",
        "from tensorflow import keras\n",
        "import numpy as np\n",
        "#import plot_utils\n",
        "import matplotlib.pyplot as plt\n",
        "from tqdm import tqdm\n",
        "from IPython import display\n",
        "print('Tensorflow version:', tf.__version__)\n",
        "from tensorflow.keras.models import Sequential\n",
        "from tensorflow.keras import layers\n",
        "\n",
        "from tensorflow.keras.layers import Dense,BatchNormalization,Reshape,Conv2DTranspose,Conv2D,LeakyReLU,Dropout,Flatten,ReLU"
      ]
    },
    {
      "cell_type": "code",
      "source": [
        "#Code for mounting the google drive\n",
        "from google.colab import drive\n",
        "drive.mount('/content/drive',force_remount=True)"
      ],
      "metadata": {
        "id": "utZu2fMiNU2y",
        "colab": {
          "base_uri": "https://localhost:8080/"
        },
        "outputId": "f423d9b6-1335-409d-b7d7-b05d8fa1dc26"
      },
      "execution_count": null,
      "outputs": [
        {
          "output_type": "stream",
          "name": "stdout",
          "text": [
            "Mounted at /content/drive\n"
          ]
        }
      ]
    },
    {
      "cell_type": "code",
      "source": [
        "#set the path to the main dir\n",
        "import os\n",
        "main_dir= '/content/drive/MyDrive/Colab Notebooks/cxr_v1'\n"
      ],
      "metadata": {
        "id": "4O5TsDcNNZot"
      },
      "execution_count": null,
      "outputs": []
    },
    {
      "cell_type": "code",
      "source": [
        "New_train_covid_names=os.listdir(main_dir)\n",
        "print(New_train_covid_names[1:10])\n",
        "\n"
      ],
      "metadata": {
        "colab": {
          "base_uri": "https://localhost:8080/"
        },
        "id": "byE5FNLBOasH",
        "outputId": "19b3eee8-878f-4fe4-ee72-72489624abd6"
      },
      "execution_count": null,
      "outputs": [
        {
          "output_type": "stream",
          "name": "stdout",
          "text": [
            "['COVID-1003.png', 'COVID-1003 - Copy.png', 'COVID-1005.png', 'COVID-1009 - Copy.png', 'COVID-101 - Copy.png', 'COVID-1011.png', 'COVID-1014.png', 'COVID-1023.png', 'COVID-1025.png']\n"
          ]
        }
      ]
    },
    {
      "cell_type": "code",
      "source": [
        "#print the total no of images present in each dir\n",
        "print(\"Total images present in the training set :\",len(New_train_covid_names))\n",
        "#"
      ],
      "metadata": {
        "colab": {
          "base_uri": "https://localhost:8080/"
        },
        "id": "mG94M2P4Oc0E",
        "outputId": "78001f39-1f2e-4d6d-dbc1-1248787f77dd"
      },
      "execution_count": null,
      "outputs": [
        {
          "output_type": "stream",
          "name": "stdout",
          "text": [
            "Total images present in the training set : 507\n"
          ]
        }
      ]
    },
    {
      "cell_type": "code",
      "source": [
        "##Keras model\n",
        "real_dataset = keras.preprocessing.image_dataset_from_directory(\n",
        "    main_dir, label_mode=None, image_size=(256,256), batch_size=64,shuffle=True\n",
        ")\n",
        "real_dataset = real_dataset.map(lambda x: x / 255.00)"
      ],
      "metadata": {
        "colab": {
          "base_uri": "https://localhost:8080/"
        },
        "id": "rPoLbHiGXzPd",
        "outputId": "7520b652-7abd-4c86-bfd5-0ac20ad1cdc2"
      },
      "execution_count": null,
      "outputs": [
        {
          "output_type": "stream",
          "name": "stdout",
          "text": [
            "Found 507 files belonging to 1 classes.\n"
          ]
        }
      ]
    },
    {
      "cell_type": "code",
      "source": [
        "10/2"
      ],
      "metadata": {
        "colab": {
          "base_uri": "https://localhost:8080/"
        },
        "id": "S0XYhSwk_xcV",
        "outputId": "cd074e16-a79b-4978-901e-990569dcc716"
      },
      "execution_count": null,
      "outputs": [
        {
          "output_type": "execute_result",
          "data": {
            "text/plain": [
              "5.0"
            ]
          },
          "metadata": {},
          "execution_count": 25
        }
      ]
    },
    {
      "cell_type": "code",
      "source": [
        "10/2.000"
      ],
      "metadata": {
        "colab": {
          "base_uri": "https://localhost:8080/"
        },
        "id": "5YmDY_7G_zsd",
        "outputId": "188f185e-4e7a-4464-89a6-1e13b3e31014"
      },
      "execution_count": null,
      "outputs": [
        {
          "output_type": "execute_result",
          "data": {
            "text/plain": [
              "5.0"
            ]
          },
          "metadata": {},
          "execution_count": 26
        }
      ]
    },
    {
      "cell_type": "code",
      "source": [
        "#sys_images='/content/drive/MyDrive/Colab Notebooks/cxr_v1_exp4/200_epoch' \n",
        "#: Fid score : 324.89\n",
        "#sys_images='/content/drive/MyDrive/Colab Notebooks/cxr_v1_exp3/200_epoch' : Fid score : 330.11\n",
        "\n",
        "syn_images_exp2_v3='/content/drive/MyDrive/Colab Notebooks/cxr1_exp2_v3/1000_epoch' \n",
        "syn_images_exp4_v3='/content/drive/MyDrive/Colab Notebooks/cxr1_exp4_v3/1000_epoch'\n",
        "syn_images_exp9_v3='/content/drive/MyDrive/Colab Notebooks/aug_exp9_v3/COVID19'\n",
        "#: Fid score : 21.83055898962805\n",
        "#syn_images='/content/drive/MyDrive/Colab Notebooks/cxr_v1_exp2/exp2_200epoch'  : Fid score : 22.911621421695592\n",
        "#v5_sys_images='/content/drive/MyDrive/Colab Notebooks/cxr_v1_exp5/200_epoch' 374.44"
      ],
      "metadata": {
        "id": "LhQYnE3vXtQI"
      },
      "execution_count": null,
      "outputs": []
    },
    {
      "cell_type": "code",
      "source": [
        "syn_images_exp2_v3_names=os.listdir(syn_images_exp2_v3)\n",
        "print(syn_images_exp2_v3_names[1:10])\n",
        "\n",
        "syn_images_exp4_v3_names=os.listdir(syn_images_exp4_v3)\n",
        "print(syn_images_exp4_v3_names[1:10])\n",
        "\n",
        "syn_images_exp9_v3_names=os.listdir(syn_images_exp9_v3)\n",
        "print(syn_images_exp9_v3_names[1:10])"
      ],
      "metadata": {
        "colab": {
          "base_uri": "https://localhost:8080/"
        },
        "id": "IIBM9sO8Y2DJ",
        "outputId": "6eefbfe9-16e1-4449-a50f-308ae420d32e"
      },
      "execution_count": null,
      "outputs": [
        {
          "output_type": "stream",
          "name": "stdout",
          "text": [
            "['cxr1_exp4_v4_gen_img_1499_1.png', 'cxr1_exp4_v4_gen_img_1499_2.png', 'cxr1_exp4_v4_gen_img_1499_3.png', 'cxr1_exp4_v4_gen_img_1499_4.png', 'cxr1_exp4_v4_gen_img_1499_5.png', 'cxr1_exp4_v4_gen_img_1499_6.png', 'cxr1_exp4_v4_gen_img_1499_7.png', 'cxr1_exp4_v4_gen_img_1499_8.png', 'cxr1_exp4_v4_gen_img_1499_9.png']\n",
            "['cxr1_exp4_v3_gen_img_1499_1.png', 'cxr1_exp4_v3_gen_img_1499_2.png', 'cxr1_exp4_v3_gen_img_1499_3.png', 'cxr1_exp4_v3_gen_img_1499_4.png', 'cxr1_exp4_v3_gen_img_1499_5.png', 'cxr1_exp4_v3_gen_img_1499_6.png', 'cxr1_exp4_v3_gen_img_1499_7.png', 'cxr1_exp4_v3_gen_img_1499_8.png', 'cxr1_exp4_v3_gen_img_1499_9.png']\n",
            "['aug_exp9_v3_gen_img_999_1.png', 'aug_exp9_v3_gen_img_999_2.png', 'aug_exp9_v3_gen_img_999_3.png', 'aug_exp9_v3_gen_img_999_4.png', 'aug_exp9_v3_gen_img_999_5.png', 'aug_exp9_v3_gen_img_999_6.png', 'aug_exp9_v3_gen_img_999_7.png', 'aug_exp9_v3_gen_img_999_8.png', 'aug_exp9_v3_gen_img_999_9.png']\n"
          ]
        }
      ]
    },
    {
      "cell_type": "code",
      "source": [
        "#print(\"Total images present in the test set :\",len(test_covid_names+test_normal_names))\n",
        "print(\"Total images present in the Synthetic image set exp2_v3 :\",len(syn_images_exp2_v3_names))\n",
        "print(\"Total images present in the Synthetic image set exp4_v3:\",len(syn_images_exp4_v3_names))\n",
        "print(\"Total images present in the Synthetic image set exp9_v3:\",len(syn_images_exp9_v3_names))\n",
        "#print(\"Total images present in the test set :\",len(test_covid_names+test_normal_names))\n"
      ],
      "metadata": {
        "colab": {
          "base_uri": "https://localhost:8080/"
        },
        "id": "Z9c3cbBrX1Et",
        "outputId": "9444fc83-6cee-4e85-d966-943e8f6aad7b"
      },
      "execution_count": null,
      "outputs": [
        {
          "output_type": "stream",
          "name": "stdout",
          "text": [
            "Total images present in the Synthetic image set exp2_v3 : 1000\n",
            "Total images present in the Synthetic image set exp4_v3: 1000\n",
            "Total images present in the Synthetic image set exp9_v3: 1000\n"
          ]
        }
      ]
    },
    {
      "cell_type": "code",
      "source": [
        "syn_dataset_exp2_v3=keras.preprocessing.image_dataset_from_directory(\n",
        "    syn_images_exp2_v3, label_mode=None, image_size=(256,256), batch_size=64,shuffle=True\n",
        ")\n",
        "syn_dataset_exp2_v3 = syn_dataset_exp2_v3.map(lambda x: x / 255.0)\n",
        "\n"
      ],
      "metadata": {
        "colab": {
          "base_uri": "https://localhost:8080/"
        },
        "id": "M5cAwagz7wrR",
        "outputId": "44c75966-a676-4a04-d8cc-37d4a7fdcdbe"
      },
      "execution_count": null,
      "outputs": [
        {
          "output_type": "stream",
          "name": "stdout",
          "text": [
            "Found 1000 files belonging to 1 classes.\n"
          ]
        }
      ]
    },
    {
      "cell_type": "code",
      "source": [
        "syn_dataset_exp4_v3=keras.preprocessing.image_dataset_from_directory(\n",
        "    syn_images_exp4_v3, label_mode=None, image_size=(256,256), batch_size=64,shuffle=True\n",
        ")\n",
        "syn_dataset_exp4_v3 = syn_dataset_exp4_v3.map(lambda x: x / 255.0)\n",
        "\n"
      ],
      "metadata": {
        "colab": {
          "base_uri": "https://localhost:8080/"
        },
        "id": "pcDAnGmLOe1M",
        "outputId": "4febe5d8-6c10-4fa5-b5c6-346721a24c99"
      },
      "execution_count": null,
      "outputs": [
        {
          "output_type": "stream",
          "name": "stdout",
          "text": [
            "Found 1000 files belonging to 1 classes.\n"
          ]
        }
      ]
    },
    {
      "cell_type": "code",
      "source": [
        "syn_dataset_exp9_v3=keras.preprocessing.image_dataset_from_directory(\n",
        "    syn_images_exp9_v3, label_mode=None, image_size=(256,256), batch_size=64,shuffle=True\n",
        ")\n",
        "syn_dataset_exp9_v3 = syn_dataset_exp9_v3.map(lambda x: x / 255.0)\n",
        "\n"
      ],
      "metadata": {
        "colab": {
          "base_uri": "https://localhost:8080/"
        },
        "id": "lPh_XDlC76Ak",
        "outputId": "0ecc0d4d-65a8-48eb-f785-53912c39d5f3"
      },
      "execution_count": null,
      "outputs": [
        {
          "output_type": "stream",
          "name": "stdout",
          "text": [
            "Found 1000 files belonging to 1 classes.\n"
          ]
        }
      ]
    },
    {
      "cell_type": "code",
      "source": [
        "# scale an array of images to a new size\n",
        "def scale_images(images, new_shape):\n",
        "\timages_list = list()\n",
        "\tfor image in images:\n",
        "\t\t# resize with nearest neighbor interpolation\n",
        "\t\tnew_image = resize(image, new_shape, 0)\n",
        "\t\t# store\n",
        "\t\timages_list.append(new_image)\n",
        "\treturn asarray(images_list)"
      ],
      "metadata": {
        "id": "bUukzMXTRMtL"
      },
      "execution_count": null,
      "outputs": []
    },
    {
      "cell_type": "code",
      "source": [
        "# calculate frechet inception distance\n",
        "def calculate_fid(model, images1, images2):\n",
        "\t# calculate activations\n",
        "\tact1 = model.predict(images1)\n",
        "\tact2 = model.predict(images2)\n",
        "\t# calculate mean and covariance statistics\n",
        "\tmu1, sigma1 = act1.mean(axis=0), cov(act1, rowvar=False)\n",
        "\tmu2, sigma2 = act2.mean(axis=0), cov(act2, rowvar=False)\n",
        "\t# calculate sum squared difference between means\n",
        "\tssdiff = numpy.sum((mu1 - mu2)**2.0)\n",
        "\t# calculate sqrt of product between cov\n",
        "\tcovmean = sqrtm(sigma1.dot(sigma2))\n",
        "\t# check and correct imaginary numbers from sqrt\n",
        "\tif iscomplexobj(covmean):\n",
        "\t\tcovmean = covmean.real\n",
        "\t# calculate score\n",
        "\tfid = ssdiff + trace(sigma1 + sigma2 - 2.0 * covmean)\n",
        "\treturn fid"
      ],
      "metadata": {
        "id": "hfQdPT4T8axo"
      },
      "execution_count": null,
      "outputs": []
    },
    {
      "cell_type": "code",
      "source": [
        "# prepare the inception v3 model\n",
        "model = InceptionV3(include_top=False, pooling='avg', input_shape=(299,299,3))"
      ],
      "metadata": {
        "colab": {
          "base_uri": "https://localhost:8080/"
        },
        "id": "IIyJHnu18ciV",
        "outputId": "006e0ae6-134d-403d-9616-d5ec0525ba6e"
      },
      "execution_count": null,
      "outputs": [
        {
          "output_type": "stream",
          "name": "stdout",
          "text": [
            "Downloading data from https://storage.googleapis.com/tensorflow/keras-applications/inception_v3/inception_v3_weights_tf_dim_ordering_tf_kernels_notop.h5\n",
            "87916544/87910968 [==============================] - 1s 0us/step\n",
            "87924736/87910968 [==============================] - 1s 0us/step\n"
          ]
        }
      ]
    },
    {
      "cell_type": "code",
      "source": [
        "def compute_embeddings(dataloader, count):\n",
        "    image_embeddings = []\n",
        "    inception_model = tf.keras.applications.InceptionV3(include_top=False, \n",
        "                              input_shape=(256,256,3), \n",
        "                              pooling='avg')\n",
        "    for _ in tqdm(range(count)):\n",
        "        images = next(iter(dataloader))\n",
        "        embeddings = inception_model.predict(images)\n",
        "\n",
        "        image_embeddings.extend(embeddings)\n",
        "\n",
        "    return np.array(image_embeddings)"
      ],
      "metadata": {
        "id": "uuOk5Mb7_ktO"
      },
      "execution_count": null,
      "outputs": []
    },
    {
      "cell_type": "code",
      "source": [
        "import math\n",
        "count = math.ceil(507/64)\n",
        "count_syn=math.ceil(1000/64)"
      ],
      "metadata": {
        "id": "9_RL_4P8BgpR"
      },
      "execution_count": null,
      "outputs": []
    },
    {
      "cell_type": "code",
      "source": [
        "real_image_embeddings = compute_embeddings(real_dataset, count)\n",
        "exp2_v3 = compute_embeddings(syn_dataset_exp2_v3, count_syn)\n",
        "exp4_v3 = compute_embeddings(syn_dataset_exp4_v3, count_syn)\n",
        "exp9_v3 = compute_embeddings(syn_dataset_exp9_v3, count_syn)\n"
      ],
      "metadata": {
        "colab": {
          "base_uri": "https://localhost:8080/"
        },
        "id": "Is-aITgrBsqN",
        "outputId": "ab0f6601-d113-4e89-e5f2-b739872cf324"
      },
      "execution_count": null,
      "outputs": [
        {
          "output_type": "stream",
          "name": "stderr",
          "text": [
            "100%|██████████| 8/8 [01:33<00:00, 11.68s/it]\n",
            "100%|██████████| 16/16 [03:10<00:00, 11.93s/it]\n",
            "100%|██████████| 16/16 [03:02<00:00, 11.41s/it]\n",
            "100%|██████████| 16/16 [03:13<00:00, 12.10s/it]\n"
          ]
        }
      ]
    },
    {
      "cell_type": "code",
      "source": [
        "from scipy.linalg import sqrtm\n",
        "def calculate_fid(real_embeddings, generated_embeddings):\n",
        "    # calculate mean and covariance statistics\n",
        "    mu1, sigma1 = real_embeddings.mean(axis=0), np.cov(real_embeddings, rowvar=False)\n",
        "    mu2, sigma2 = generated_embeddings.mean(axis=0), np.cov(generated_embeddings,  rowvar=False)\n",
        "    # calculate sum squared difference between means\n",
        "    ssdiff = np.sum((mu1 - mu2)**2.0)\n",
        "    # calculate sqrt of product between cov\n",
        "    covmean = sqrtm(sigma1.dot(sigma2))\n",
        "    # check and correct imaginary numbers from sqrt\n",
        "    if np.iscomplexobj(covmean):\n",
        "      covmean = covmean.real\n",
        "     # calculate score\n",
        "    fid = ssdiff + np.trace(sigma1 + sigma2 - 2.0 * covmean)\n",
        "    return fid"
      ],
      "metadata": {
        "id": "gbGqkLVKCnPt"
      },
      "execution_count": null,
      "outputs": []
    },
    {
      "cell_type": "code",
      "source": [
        "fid = calculate_fid(real_image_embeddings, exp2_v3)"
      ],
      "metadata": {
        "id": "IslYPeZbH-jK"
      },
      "execution_count": null,
      "outputs": []
    },
    {
      "cell_type": "code",
      "source": [
        "fid"
      ],
      "metadata": {
        "colab": {
          "base_uri": "https://localhost:8080/"
        },
        "id": "h-pNaB0mIEHK",
        "outputId": "d0b74624-2920-4218-ed21-f6e78a02d84a"
      },
      "execution_count": null,
      "outputs": [
        {
          "output_type": "execute_result",
          "data": {
            "text/plain": [
              "200.6005867910286"
            ]
          },
          "metadata": {},
          "execution_count": 54
        }
      ]
    },
    {
      "cell_type": "code",
      "source": [
        "fid1 = calculate_fid(real_image_embeddings, exp4_v3)"
      ],
      "metadata": {
        "id": "5fmIsF0qIP-s"
      },
      "execution_count": null,
      "outputs": []
    },
    {
      "cell_type": "code",
      "source": [
        "fid1"
      ],
      "metadata": {
        "colab": {
          "base_uri": "https://localhost:8080/"
        },
        "id": "AMZ-cKKZIVnb",
        "outputId": "294449da-1393-4b94-82e5-cc1182080a53"
      },
      "execution_count": null,
      "outputs": [
        {
          "output_type": "execute_result",
          "data": {
            "text/plain": [
              "212.38586207870043"
            ]
          },
          "metadata": {},
          "execution_count": 56
        }
      ]
    },
    {
      "cell_type": "code",
      "source": [
        "fid2 = calculate_fid(real_image_embeddings, exp9_v3)"
      ],
      "metadata": {
        "id": "TQFFlA6IIk1U"
      },
      "execution_count": null,
      "outputs": []
    },
    {
      "cell_type": "code",
      "source": [
        "fid3"
      ],
      "metadata": {
        "colab": {
          "base_uri": "https://localhost:8080/"
        },
        "id": "OBuJTV1UIosT",
        "outputId": "db2cb051-b59a-4f99-c8b7-a357f9e6040f"
      },
      "execution_count": null,
      "outputs": [
        {
          "output_type": "execute_result",
          "data": {
            "text/plain": [
              "292.16584440268053"
            ]
          },
          "metadata": {},
          "execution_count": 58
        }
      ]
    },
    {
      "cell_type": "code",
      "source": [
        "def compute_embeddings_new(dataloader, count):\n",
        "    image_embeddings = []\n",
        "    inception_model = tf.keras.applications.InceptionV3(include_top=False, \n",
        "                              input_shape=(256,256,3), weights=\"imagenet\",\n",
        "                              pooling='avg')\n",
        "    for _ in tqdm(range(count)):\n",
        "        images = next(iter(dataloader))\n",
        "        embeddings = inception_model.predict(images)\n",
        "\n",
        "        image_embeddings.extend(embeddings)\n",
        "\n",
        "    return np.array(image_embeddings)"
      ],
      "metadata": {
        "id": "cFzZSiWTJbmw"
      },
      "execution_count": null,
      "outputs": []
    },
    {
      "cell_type": "code",
      "source": [
        "real_image_embeddings_new = compute_embeddings_new(real_dataset, count)\n",
        "exp2_v3_new = compute_embeddings_new(syn_dataset_exp2_v3, count_syn)\n",
        "exp4_v3_new = compute_embeddings_new(syn_dataset_exp4_v3, count_syn)\n",
        "exp9_v3_new = compute_embeddings_new(syn_dataset_exp9_v3, count_syn)\n"
      ],
      "metadata": {
        "colab": {
          "base_uri": "https://localhost:8080/"
        },
        "id": "kNnoLGh-NMD_",
        "outputId": "7c40d0a5-401b-44ba-e963-2e81d4786550"
      },
      "execution_count": null,
      "outputs": [
        {
          "output_type": "stream",
          "name": "stderr",
          "text": [
            "100%|██████████| 8/8 [01:49<00:00, 13.69s/it]\n",
            "100%|██████████| 16/16 [03:04<00:00, 11.53s/it]\n",
            "100%|██████████| 16/16 [03:12<00:00, 12.05s/it]\n",
            "100%|██████████| 16/16 [03:13<00:00, 12.10s/it]\n"
          ]
        }
      ]
    },
    {
      "cell_type": "code",
      "source": [
        "fid_exp2_v3 = calculate_fid(real_image_embeddings_new, exp2_v3_new)\n",
        "fid1_exp4_v3 = calculate_fid(real_image_embeddings_new, exp4_v3_new)\n",
        "fid2_exp9_v3 = calculate_fid(real_image_embeddings_new, exp9_v3_new)"
      ],
      "metadata": {
        "id": "rf7EW9JmNUnI"
      },
      "execution_count": null,
      "outputs": []
    },
    {
      "cell_type": "code",
      "source": [
        "print('FID score for exp2_v3',fid_exp2_v3)\n",
        "print('FID score for exp4_v3',fid1_exp4_v3)\n",
        "print('FID score for exp9_v3',fid2_exp9_v3)"
      ],
      "metadata": {
        "colab": {
          "base_uri": "https://localhost:8080/"
        },
        "id": "coCCocC9Qf4h",
        "outputId": "6cc3e80f-6d69-4885-ebc2-f96c42cb68c0"
      },
      "execution_count": null,
      "outputs": [
        {
          "output_type": "stream",
          "name": "stdout",
          "text": [
            "FID score for exp2_v3 196.52670349465402\n",
            "FID score for exp4_v3 207.8615662398231\n",
            "FID score for exp9_v3 293.2972475239209\n"
          ]
        }
      ]
    },
    {
      "cell_type": "code",
      "source": [
        ""
      ],
      "metadata": {
        "id": "pdrp08QUQ3vs"
      },
      "execution_count": null,
      "outputs": []
    }
  ]
}